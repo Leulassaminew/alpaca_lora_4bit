{
 "cells": [
  {
   "cell_type": "code",
   "execution_count": 1,
   "metadata": {},
   "outputs": [],
   "source": [
    "import subprocess as sp\n",
    "import os\n",
    "import pandas as pd"
   ]
  },
  {
   "cell_type": "code",
   "execution_count": 2,
   "metadata": {},
   "outputs": [],
   "source": [
    "if not os.path.exists(\"vicuna-7B-GPTQ-4bit-128g\"):\n",
    "    !git clone https://huggingface.co/TheBloke/vicuna-7B-GPTQ-4bit-128g"
   ]
  },
  {
   "cell_type": "code",
   "execution_count": 3,
   "metadata": {},
   "outputs": [
    {
     "name": "stdout",
     "output_type": "stream",
     "text": [
      "Found existing installation: alpaca-lora-4bit 0.1.2\n",
      "Uninstalling alpaca-lora-4bit-0.1.2:\n",
      "  Successfully uninstalled alpaca-lora-4bit-0.1.2\n",
      "Collecting git+https://github.com/johnsmith0031/alpaca_lora_4bit@65e5495ce5ffcd669408ad5d3e5d6e0f71739e9f\n",
      "  Cloning https://github.com/johnsmith0031/alpaca_lora_4bit (to revision 65e5495ce5ffcd669408ad5d3e5d6e0f71739e9f) to c:\\users\\alex4321\\appdata\\local\\temp\\pip-req-build-j7u0l1ou\n",
      "  Resolved https://github.com/johnsmith0031/alpaca_lora_4bit to commit 65e5495ce5ffcd669408ad5d3e5d6e0f71739e9f\n",
      "  Preparing metadata (setup.py): started\n",
      "  Preparing metadata (setup.py): finished with status 'done'\n",
      "Collecting peft@ git+https://github.com/huggingface/peft.git@70af02a2bca5a63921790036b2c9430edf4037e2 (from alpaca-lora-4bit==0.1.2)\n",
      "  Using cached peft-0.3.0.dev0-py3-none-any.whl\n",
      "Collecting transformers@ git+https://github.com/huggingface/transformers.git (from alpaca-lora-4bit==0.1.2)\n",
      "  Cloning https://github.com/huggingface/transformers.git to c:\\users\\alex4321\\appdata\\local\\temp\\pip-install-ozp91o6y\\transformers_3e4984fe29cf470cad6100c0f57a644d\n",
      "  Resolved https://github.com/huggingface/transformers.git to commit 1e9da2b0a6ef964c2cf72dd715dbee991a3f49fa\n",
      "  Installing build dependencies: started\n",
      "  Installing build dependencies: finished with status 'done'\n",
      "  Getting requirements to build wheel: started\n",
      "  Getting requirements to build wheel: finished with status 'done'\n",
      "  Preparing metadata (pyproject.toml): started\n",
      "  Preparing metadata (pyproject.toml): finished with status 'done'\n",
      "Requirement already satisfied: torch in c:\\users\\alex4321\\anaconda3\\envs\\llama\\lib\\site-packages (from alpaca-lora-4bit==0.1.2) (2.0.1+cu117)\n",
      "Requirement already satisfied: accelerate in c:\\users\\alex4321\\anaconda3\\envs\\llama\\lib\\site-packages\\accelerate-0.20.3-py3.10.egg (from alpaca-lora-4bit==0.1.2) (0.20.3)\n",
      "Requirement already satisfied: datasets in c:\\users\\alex4321\\anaconda3\\envs\\llama\\lib\\site-packages\\datasets-2.13.1-py3.10.egg (from alpaca-lora-4bit==0.1.2) (2.13.1)\n",
      "Requirement already satisfied: sentencepiece in c:\\users\\alex4321\\anaconda3\\envs\\llama\\lib\\site-packages\\sentencepiece-0.1.99-py3.10-win-amd64.egg (from alpaca-lora-4bit==0.1.2) (0.1.99)\n",
      "Requirement already satisfied: safetensors in c:\\users\\alex4321\\anaconda3\\envs\\llama\\lib\\site-packages\\safetensors-0.3.1-py3.10-win-amd64.egg (from alpaca-lora-4bit==0.1.2) (0.3.1)\n",
      "Requirement already satisfied: einops in c:\\users\\alex4321\\anaconda3\\envs\\llama\\lib\\site-packages\\einops-0.6.1-py3.10.egg (from alpaca-lora-4bit==0.1.2) (0.6.1)\n",
      "Requirement already satisfied: colorama in c:\\users\\alex4321\\anaconda3\\envs\\llama\\lib\\site-packages\\colorama-0.4.6-py3.10.egg (from alpaca-lora-4bit==0.1.2) (0.4.6)\n",
      "Requirement already satisfied: pyzmq in c:\\users\\alex4321\\anaconda3\\envs\\llama\\lib\\site-packages\\pyzmq-25.1.1b1-py3.10-win-amd64.egg (from alpaca-lora-4bit==0.1.2) (25.1.1b1)\n",
      "Requirement already satisfied: wandb in c:\\users\\alex4321\\anaconda3\\envs\\llama\\lib\\site-packages\\wandb-0.15.4-py3.10.egg (from alpaca-lora-4bit==0.1.2) (0.15.4)\n",
      "Requirement already satisfied: packaging in c:\\users\\alex4321\\anaconda3\\envs\\llama\\lib\\site-packages\\packaging-23.1-py3.10.egg (from alpaca-lora-4bit==0.1.2) (23.1)\n",
      "Requirement already satisfied: numpy>=1.17 in c:\\users\\alex4321\\anaconda3\\envs\\llama\\lib\\site-packages\\numpy-1.25.0-py3.10-win-amd64.egg (from accelerate->alpaca-lora-4bit==0.1.2) (1.25.0)\n",
      "Requirement already satisfied: psutil in c:\\users\\alex4321\\anaconda3\\envs\\llama\\lib\\site-packages\\psutil-5.9.5-py3.10-win-amd64.egg (from accelerate->alpaca-lora-4bit==0.1.2) (5.9.5)\n",
      "Requirement already satisfied: pyyaml in c:\\users\\alex4321\\anaconda3\\envs\\llama\\lib\\site-packages\\pyyaml-6.0-py3.10-win-amd64.egg (from accelerate->alpaca-lora-4bit==0.1.2) (6.0)\n",
      "Requirement already satisfied: filelock in c:\\users\\alex4321\\anaconda3\\envs\\llama\\lib\\site-packages (from torch->alpaca-lora-4bit==0.1.2) (3.9.0)\n",
      "Requirement already satisfied: typing-extensions in c:\\users\\alex4321\\anaconda3\\envs\\llama\\lib\\site-packages (from torch->alpaca-lora-4bit==0.1.2) (4.4.0)\n",
      "Requirement already satisfied: sympy in c:\\users\\alex4321\\anaconda3\\envs\\llama\\lib\\site-packages (from torch->alpaca-lora-4bit==0.1.2) (1.11.1)\n",
      "Requirement already satisfied: networkx in c:\\users\\alex4321\\anaconda3\\envs\\llama\\lib\\site-packages (from torch->alpaca-lora-4bit==0.1.2) (3.0)\n",
      "Requirement already satisfied: jinja2 in c:\\users\\alex4321\\anaconda3\\envs\\llama\\lib\\site-packages (from torch->alpaca-lora-4bit==0.1.2) (3.1.2)\n",
      "Requirement already satisfied: pyarrow>=8.0.0 in c:\\users\\alex4321\\anaconda3\\envs\\llama\\lib\\site-packages\\pyarrow-12.0.1-py3.10-win-amd64.egg (from datasets->alpaca-lora-4bit==0.1.2) (12.0.1)\n",
      "Requirement already satisfied: dill<0.3.7,>=0.3.0 in c:\\users\\alex4321\\anaconda3\\envs\\llama\\lib\\site-packages\\dill-0.3.6-py3.10.egg (from datasets->alpaca-lora-4bit==0.1.2) (0.3.6)\n",
      "Requirement already satisfied: pandas in c:\\users\\alex4321\\anaconda3\\envs\\llama\\lib\\site-packages\\pandas-2.0.2-py3.10-win-amd64.egg (from datasets->alpaca-lora-4bit==0.1.2) (2.0.2)\n",
      "Requirement already satisfied: requests>=2.19.0 in c:\\users\\alex4321\\anaconda3\\envs\\llama\\lib\\site-packages\\requests-2.31.0-py3.10.egg (from datasets->alpaca-lora-4bit==0.1.2) (2.31.0)\n",
      "Requirement already satisfied: tqdm>=4.62.1 in c:\\users\\alex4321\\anaconda3\\envs\\llama\\lib\\site-packages\\tqdm-4.65.0-py3.10.egg (from datasets->alpaca-lora-4bit==0.1.2) (4.65.0)\n",
      "Requirement already satisfied: xxhash in c:\\users\\alex4321\\anaconda3\\envs\\llama\\lib\\site-packages\\xxhash-3.2.0-py3.10-win-amd64.egg (from datasets->alpaca-lora-4bit==0.1.2) (3.2.0)\n",
      "Requirement already satisfied: multiprocess in c:\\users\\alex4321\\anaconda3\\envs\\llama\\lib\\site-packages\\multiprocess-0.70.14-py3.10.egg (from datasets->alpaca-lora-4bit==0.1.2) (0.70.14)\n",
      "Requirement already satisfied: fsspec[http]>=2021.11.1 in c:\\users\\alex4321\\anaconda3\\envs\\llama\\lib\\site-packages\\fsspec-2023.6.0-py3.10.egg (from datasets->alpaca-lora-4bit==0.1.2) (2023.6.0)\n",
      "Requirement already satisfied: aiohttp in c:\\users\\alex4321\\anaconda3\\envs\\llama\\lib\\site-packages (from datasets->alpaca-lora-4bit==0.1.2) (3.8.4)\n",
      "Requirement already satisfied: huggingface-hub<1.0.0,>=0.11.0 in c:\\users\\alex4321\\anaconda3\\envs\\llama\\lib\\site-packages\\huggingface_hub-0.15.1-py3.10.egg (from datasets->alpaca-lora-4bit==0.1.2) (0.15.1)\n",
      "Requirement already satisfied: regex!=2019.12.17 in c:\\users\\alex4321\\anaconda3\\envs\\llama\\lib\\site-packages\\regex-2023.6.3-py3.10-win-amd64.egg (from transformers@ git+https://github.com/huggingface/transformers.git->alpaca-lora-4bit==0.1.2) (2023.6.3)\n",
      "Requirement already satisfied: tokenizers!=0.11.3,<0.14,>=0.11.1 in c:\\users\\alex4321\\anaconda3\\envs\\llama\\lib\\site-packages\\tokenizers-0.13.3-py3.10-win-amd64.egg (from transformers@ git+https://github.com/huggingface/transformers.git->alpaca-lora-4bit==0.1.2) (0.13.3)\n",
      "Requirement already satisfied: Click!=8.0.0,>=7.0 in c:\\users\\alex4321\\anaconda3\\envs\\llama\\lib\\site-packages\\click-8.1.3-py3.10.egg (from wandb->alpaca-lora-4bit==0.1.2) (8.1.3)\n",
      "Requirement already satisfied: GitPython!=3.1.29,>=1.0.0 in c:\\users\\alex4321\\anaconda3\\envs\\llama\\lib\\site-packages\\gitpython-3.1.31-py3.10.egg (from wandb->alpaca-lora-4bit==0.1.2) (3.1.31)\n",
      "Requirement already satisfied: sentry-sdk>=1.0.0 in c:\\users\\alex4321\\anaconda3\\envs\\llama\\lib\\site-packages\\sentry_sdk-1.26.0-py3.10.egg (from wandb->alpaca-lora-4bit==0.1.2) (1.26.0)\n",
      "Requirement already satisfied: docker-pycreds>=0.4.0 in c:\\users\\alex4321\\anaconda3\\envs\\llama\\lib\\site-packages\\docker_pycreds-0.4.0-py3.10.egg (from wandb->alpaca-lora-4bit==0.1.2) (0.4.0)\n",
      "Requirement already satisfied: pathtools in c:\\users\\alex4321\\anaconda3\\envs\\llama\\lib\\site-packages\\pathtools-0.1.2-py3.10.egg (from wandb->alpaca-lora-4bit==0.1.2) (0.1.2)\n",
      "Requirement already satisfied: setproctitle in c:\\users\\alex4321\\anaconda3\\envs\\llama\\lib\\site-packages\\setproctitle-1.3.2-py3.10-win-amd64.egg (from wandb->alpaca-lora-4bit==0.1.2) (1.3.2)\n",
      "Requirement already satisfied: setuptools in c:\\users\\alex4321\\anaconda3\\envs\\llama\\lib\\site-packages (from wandb->alpaca-lora-4bit==0.1.2) (67.8.0)\n",
      "Requirement already satisfied: appdirs>=1.4.3 in c:\\users\\alex4321\\anaconda3\\envs\\llama\\lib\\site-packages\\appdirs-1.4.4-py3.10.egg (from wandb->alpaca-lora-4bit==0.1.2) (1.4.4)\n",
      "Requirement already satisfied: protobuf!=4.21.0,<5,>=3.19.0 in c:\\users\\alex4321\\anaconda3\\envs\\llama\\lib\\site-packages\\protobuf-4.23.3-py3.10.egg (from wandb->alpaca-lora-4bit==0.1.2) (4.23.3)\n",
      "Requirement already satisfied: six>=1.4.0 in c:\\users\\alex4321\\anaconda3\\envs\\llama\\lib\\site-packages\\six-1.16.0-py3.10.egg (from docker-pycreds>=0.4.0->wandb->alpaca-lora-4bit==0.1.2) (1.16.0)\n",
      "Requirement already satisfied: attrs>=17.3.0 in c:\\users\\alex4321\\anaconda3\\envs\\llama\\lib\\site-packages (from aiohttp->datasets->alpaca-lora-4bit==0.1.2) (23.1.0)\n",
      "Requirement already satisfied: charset-normalizer<4.0,>=2.0 in c:\\users\\alex4321\\anaconda3\\envs\\llama\\lib\\site-packages (from aiohttp->datasets->alpaca-lora-4bit==0.1.2) (3.1.0)\n",
      "Requirement already satisfied: multidict<7.0,>=4.5 in c:\\users\\alex4321\\anaconda3\\envs\\llama\\lib\\site-packages (from aiohttp->datasets->alpaca-lora-4bit==0.1.2) (6.0.4)\n",
      "Requirement already satisfied: async-timeout<5.0,>=4.0.0a3 in c:\\users\\alex4321\\anaconda3\\envs\\llama\\lib\\site-packages (from aiohttp->datasets->alpaca-lora-4bit==0.1.2) (4.0.2)\n",
      "Requirement already satisfied: yarl<2.0,>=1.0 in c:\\users\\alex4321\\anaconda3\\envs\\llama\\lib\\site-packages (from aiohttp->datasets->alpaca-lora-4bit==0.1.2) (1.9.2)\n",
      "Requirement already satisfied: frozenlist>=1.1.1 in c:\\users\\alex4321\\anaconda3\\envs\\llama\\lib\\site-packages (from aiohttp->datasets->alpaca-lora-4bit==0.1.2) (1.3.3)\n",
      "Requirement already satisfied: aiosignal>=1.1.2 in c:\\users\\alex4321\\anaconda3\\envs\\llama\\lib\\site-packages (from aiohttp->datasets->alpaca-lora-4bit==0.1.2) (1.3.1)\n",
      "Requirement already satisfied: gitdb<5,>=4.0.1 in c:\\users\\alex4321\\anaconda3\\envs\\llama\\lib\\site-packages\\gitdb-4.0.10-py3.10.egg (from GitPython!=3.1.29,>=1.0.0->wandb->alpaca-lora-4bit==0.1.2) (4.0.10)\n",
      "Requirement already satisfied: idna<4,>=2.5 in c:\\users\\alex4321\\anaconda3\\envs\\llama\\lib\\site-packages (from requests>=2.19.0->datasets->alpaca-lora-4bit==0.1.2) (3.4)\n",
      "Requirement already satisfied: urllib3<3,>=1.21.1 in c:\\users\\alex4321\\anaconda3\\envs\\llama\\lib\\site-packages\\urllib3-2.0.3-py3.10.egg (from requests>=2.19.0->datasets->alpaca-lora-4bit==0.1.2) (2.0.3)\n",
      "Requirement already satisfied: certifi>=2017.4.17 in c:\\users\\alex4321\\anaconda3\\envs\\llama\\lib\\site-packages\\certifi-2023.5.7-py3.10.egg (from requests>=2.19.0->datasets->alpaca-lora-4bit==0.1.2) (2023.5.7)\n",
      "Requirement already satisfied: MarkupSafe>=2.0 in c:\\users\\alex4321\\anaconda3\\envs\\llama\\lib\\site-packages (from jinja2->torch->alpaca-lora-4bit==0.1.2) (2.1.2)\n",
      "Requirement already satisfied: python-dateutil>=2.8.2 in c:\\users\\alex4321\\anaconda3\\envs\\llama\\lib\\site-packages\\python_dateutil-2.8.2-py3.10.egg (from pandas->datasets->alpaca-lora-4bit==0.1.2) (2.8.2)\n",
      "Requirement already satisfied: pytz>=2020.1 in c:\\users\\alex4321\\anaconda3\\envs\\llama\\lib\\site-packages\\pytz-2023.3-py3.10.egg (from pandas->datasets->alpaca-lora-4bit==0.1.2) (2023.3)\n",
      "Requirement already satisfied: tzdata>=2022.1 in c:\\users\\alex4321\\anaconda3\\envs\\llama\\lib\\site-packages\\tzdata-2023.3-py3.10.egg (from pandas->datasets->alpaca-lora-4bit==0.1.2) (2023.3)\n",
      "Requirement already satisfied: mpmath>=0.19 in c:\\users\\alex4321\\anaconda3\\envs\\llama\\lib\\site-packages (from sympy->torch->alpaca-lora-4bit==0.1.2) (1.2.1)\n",
      "Requirement already satisfied: smmap<6,>=3.0.1 in c:\\users\\alex4321\\anaconda3\\envs\\llama\\lib\\site-packages\\smmap-5.0.0-py3.10.egg (from gitdb<5,>=4.0.1->GitPython!=3.1.29,>=1.0.0->wandb->alpaca-lora-4bit==0.1.2) (5.0.0)\n",
      "Building wheels for collected packages: alpaca-lora-4bit\n",
      "  Building wheel for alpaca-lora-4bit (setup.py): started\n",
      "  Building wheel for alpaca-lora-4bit (setup.py): finished with status 'done'\n",
      "  Created wheel for alpaca-lora-4bit: filename=alpaca_lora_4bit-0.1.2-cp310-cp310-win_amd64.whl size=220993 sha256=cdc4c428ae2457beb105451b8d4dd6d0c00bbfdfbaa3544ebadb07445515da7e\n",
      "  Stored in directory: c:\\users\\alex4321\\appdata\\local\\pip\\cache\\wheels\\06\\ba\\58\\ccb34a92ded869fe5dd62f6b74c71beaed25bfe5d21154459a\n",
      "Successfully built alpaca-lora-4bit\n",
      "Installing collected packages: alpaca-lora-4bit\n",
      "Successfully installed alpaca-lora-4bit-0.1.2\n"
     ]
    },
    {
     "name": "stderr",
     "output_type": "stream",
     "text": [
      "  Running command git clone --filter=blob:none --quiet https://github.com/johnsmith0031/alpaca_lora_4bit 'C:\\Users\\alex4321\\AppData\\Local\\Temp\\pip-req-build-j7u0l1ou'\n",
      "  Running command git rev-parse -q --verify 'sha^65e5495ce5ffcd669408ad5d3e5d6e0f71739e9f'\n",
      "  Running command git fetch -q https://github.com/johnsmith0031/alpaca_lora_4bit 65e5495ce5ffcd669408ad5d3e5d6e0f71739e9f\n",
      "  Running command git checkout -q 65e5495ce5ffcd669408ad5d3e5d6e0f71739e9f\n",
      "  Running command git clone --filter=blob:none --quiet https://github.com/huggingface/transformers.git 'C:\\Users\\alex4321\\AppData\\Local\\Temp\\pip-install-ozp91o6y\\transformers_3e4984fe29cf470cad6100c0f57a644d'\n"
     ]
    }
   ],
   "source": [
    "!pip uninstall --yes alpaca_lora_4bit\n",
    "!pip install git+https://github.com/johnsmith0031/alpaca_lora_4bit@65e5495ce5ffcd669408ad5d3e5d6e0f71739e9f"
   ]
  },
  {
   "cell_type": "code",
   "execution_count": 4,
   "metadata": {},
   "outputs": [],
   "source": [
    "code = \"\"\"\n",
    "from alpaca_lora_4bit.autograd_4bit import load_llama_model_4bit_low_ram, Autograd4bitQuantLinear, switch_backend_to\n",
    "\n",
    "switch_backend_to(\"cuda\")\n",
    "\n",
    "model, tokenizer = load_llama_model_4bit_low_ram(\"vicuna-7B-GPTQ-4bit-128g\",\n",
    "                                                 \"vicuna-7B-GPTQ-4bit-128g/vicuna-7B-GPTQ-4bit-128g.safetensors\",\n",
    "                                                 groupsize=128)\n",
    "\n",
    "model.half();\n",
    "for n, m in model.named_modules():\n",
    "    if isinstance(m, Autograd4bitQuantLinear):\n",
    "        if m.is_v1_model:\n",
    "            m.zeros = m.zeros.half()\n",
    "        m.scales = m.scales.half()\n",
    "        m.bias = m.bias.half()\n",
    "\n",
    "modules = list(model.modules())\n",
    "modules = [m for m in modules if isinstance(m, Autograd4bitQuantLinear)]\n",
    "for i, m in enumerate(modules):\n",
    "    assert not torch.isnan(m.bias).any().item()\n",
    "    assert not torch.isinf(m.bias).any().item()\n",
    "\"\"\"\n",
    "with open(\"__test.py\", \"w\") as dst:\n",
    "    dst.write(code)"
   ]
  },
  {
   "cell_type": "code",
   "execution_count": 5,
   "metadata": {},
   "outputs": [
    {
     "data": {
      "text/plain": [
       "1    10\n",
       "Name: count, dtype: int64"
      ]
     },
     "execution_count": 5,
     "metadata": {},
     "output_type": "execute_result"
    }
   ],
   "source": [
    "exit_codes = []\n",
    "for i in range(10):\n",
    "    exit_code = sp.Popen([\"python\", \"__test.py\"]).wait()\n",
    "    exit_codes.append(exit_code)\n",
    "\n",
    "pd.Series(exit_codes).value_counts()"
   ]
  }
 ],
 "metadata": {
  "kernelspec": {
   "display_name": "llama",
   "language": "python",
   "name": "python3"
  },
  "language_info": {
   "codemirror_mode": {
    "name": "ipython",
    "version": 3
   },
   "file_extension": ".py",
   "mimetype": "text/x-python",
   "name": "python",
   "nbconvert_exporter": "python",
   "pygments_lexer": "ipython3",
   "version": "3.10.11"
  },
  "orig_nbformat": 4
 },
 "nbformat": 4,
 "nbformat_minor": 2
}
